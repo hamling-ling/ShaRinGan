{
 "cells": [
  {
   "cell_type": "code",
   "execution_count": 1,
   "metadata": {},
   "outputs": [],
   "source": [
    "import os\n",
    "import numpy as np\n",
    "import tensorflow as tf\n",
    "import glob\n",
    "%matplotlib inline\n",
    "import matplotlib.pyplot as plt"
   ]
  },
  {
   "cell_type": "code",
   "execution_count": 2,
   "metadata": {},
   "outputs": [],
   "source": [
    "wave_num=64\n",
    "sz=256\n",
    "def createGraph():\n",
    "    rnd_f=tf.random_uniform([wave_num,1], 0.02, 0.1)\n",
    "    rnd_p=np.pi*tf.random_uniform([wave_num,1])\n",
    "\n",
    "    idx = tf.reshape(tf.constant(np.arange(sz,dtype=np.float32)),[1,sz])\n",
    "    y=idx*rnd_f*np.pi+rnd_p\n",
    "    return tf.sin(y) * 0.5\n",
    "\n",
    "def outputWave(path):\n",
    "    with tf.Session() as sess:\n",
    "        g=createGraph()\n",
    "        waves=sess.run(g)\n",
    "\n",
    "        data = np.zeros([2,sz], dtype=np.float32)\n",
    "        for i in range(len(waves)):\n",
    "            fn = \"{0}/{1:0>4}\".format(path, i) + \".bin\"\n",
    "            data[0]=waves[i]\n",
    "            data[1]=distortion(waves[i])\n",
    "            data.tofile(fn)\n",
    "\n",
    "def distortion(x):\n",
    "    return np.sign(x)*(1-np.exp(-np.abs(x*8)))"
   ]
  },
  {
   "cell_type": "code",
   "execution_count": 3,
   "metadata": {},
   "outputs": [],
   "source": [
    "with tf.Session() as sess:\n",
    "    g=createGraph()\n",
    "    waves=sess.run(g)"
   ]
  },
  {
   "cell_type": "code",
   "execution_count": 4,
   "metadata": {},
   "outputs": [],
   "source": [
    "out_dir=\"./data/input/test\"\n",
    "os.makedirs(out_dir, exist_ok=True)\n",
    "outputWave(out_dir)"
   ]
  },
  {
   "cell_type": "code",
   "execution_count": 5,
   "metadata": {},
   "outputs": [],
   "source": [
    "input_paths = glob.glob(os.path.join(out_dir, \"*.bin\"))\n",
    "input_paths.sort()\n",
    "\n",
    "filename_queue = tf.train.string_input_producer(input_paths)\n",
    "reader = tf.WholeFileReader()\n",
    "key, value = reader.read(filename_queue)\n",
    "image = tf.decode_raw(value, tf.float32)\n",
    "image = tf.reshape(image,[2,1,tf.constant(sz),1])\n",
    "\n",
    "sess=tf.InteractiveSession()\n",
    "sess.run(tf.global_variables_initializer())\n",
    "sess.run(tf.local_variables_initializer())\n",
    "\n",
    "coord = tf.train.Coordinator()\n",
    "threads = tf.train.start_queue_runners(coord=coord)\n",
    "\n",
    "out=sess.run(image)\n",
    "\n",
    "coord.request_stop()\n",
    "coord.join(threads)\n",
    "\n",
    "xs = range(sz)\n",
    "plt.plot(xs, out[0,0,:,0], xs, out[1,0,:,0])"
   ]
  },
  {
   "cell_type": "code",
   "execution_count": null,
   "metadata": {},
   "outputs": [],
   "source": []
  }
 ],
 "metadata": {
  "kernelspec": {
   "display_name": "Python 3",
   "language": "python",
   "name": "python3"
  },
  "language_info": {
   "codemirror_mode": {
    "name": "ipython",
    "version": 3
   },
   "file_extension": ".py",
   "mimetype": "text/x-python",
   "name": "python",
   "nbconvert_exporter": "python",
   "pygments_lexer": "ipython3",
   "version": "3.5.2"
  }
 },
 "nbformat": 4,
 "nbformat_minor": 2
}
