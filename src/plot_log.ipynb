{
 "cells": [
  {
   "cell_type": "code",
   "execution_count": null,
   "metadata": {},
   "outputs": [],
   "source": [
    "import numpy as np\n",
    "%matplotlib inline\n",
    "import matplotlib.pyplot as plt\n",
    "import re"
   ]
  },
  {
   "cell_type": "code",
   "execution_count": null,
   "metadata": {},
   "outputs": [],
   "source": [
    "lines = [line.rstrip('\\n') for line in open('../data/output/pretrained_model/output.log')]"
   ]
  },
  {
   "cell_type": "code",
   "execution_count": null,
   "metadata": {},
   "outputs": [],
   "source": [
    "pat_g_logss_L1  = re.compile(r\".*g_loss_L1\\s=\\s(\\d*\\.\\d+).*\")\n",
    "pat_d_logss     = re.compile(r\".*d_loss\\s=\\s(\\d*\\.\\d+).*\")\n",
    "pat_g_logss_GAN = re.compile(r\".*g_loss_GAN\\s=\\s(\\d*\\.\\d+).*\")\n",
    "pat_global_steps = re.compile(r\".*global_step\\s=\\s(\\d+).*\")\n",
    "\n",
    "g_loss_L1  = list()\n",
    "d_loss     = list()\n",
    "g_loss_GAN =  list()\n",
    "g_global_steps = list()\n",
    "\n",
    "for line in lines:\n",
    "    #print(v)\n",
    "    result = pat_g_logss_L1.match(line)\n",
    "    if result:\n",
    "        g_loss_L1.append(float(result.group(1)))\n",
    "    result = pat_d_logss.match(line)\n",
    "    if result:\n",
    "        d_loss.append(float(result.group(1)))\n",
    "    result = pat_g_logss_GAN.match(line)\n",
    "    if result:\n",
    "        g_loss_GAN.append(float(result.group(1)))\n",
    "    result = pat_global_steps.match(line)\n",
    "    if result:\n",
    "        g_global_steps.append(float(result.group(1)))\n",
    "if len(g_loss_L1) != len(d_loss):\n",
    "   print(\"d_loss length error\")\n",
    "if len(g_loss_L1) != len(g_loss_GAN):\n",
    "   print(\"g_loss_GAN length error\")\n",
    "if len(g_loss_L1) != len(g_global_steps):\n",
    "   print(\"g_global_steps length error\")"
   ]
  },
  {
   "cell_type": "code",
   "execution_count": null,
   "metadata": {},
   "outputs": [],
   "source": [
    "g_loss_L1=np.array(g_loss_L1)\n",
    "d_loss=np.array(d_loss)\n",
    "g_loss_GAN=np.array(g_loss_GAN)\n",
    "xs=np.array(g_global_steps)"
   ]
  },
  {
   "cell_type": "code",
   "execution_count": null,
   "metadata": {},
   "outputs": [],
   "source": [
    "\n",
    "plt.plot(xs, g_loss_L1)"
   ]
  },
  {
   "cell_type": "code",
   "execution_count": null,
   "metadata": {
    "scrolled": true
   },
   "outputs": [],
   "source": [
    "plt.plot(xs, d_loss)"
   ]
  },
  {
   "cell_type": "code",
   "execution_count": null,
   "metadata": {},
   "outputs": [],
   "source": [
    "plt.plot(xs, g_loss_GAN)"
   ]
  },
  {
   "cell_type": "code",
   "execution_count": null,
   "metadata": {},
   "outputs": [],
   "source": [
    "!cat ../data/output/pretrained_model/output.log  | grep -E \"g_loss_L1\\s=\\s0\\.0(3|4[012]).*\\s.*global_step = .*000\""
   ]
  },
  {
   "cell_type": "code",
   "execution_count": null,
   "metadata": {},
   "outputs": [],
   "source": []
  }
 ],
 "metadata": {
  "kernelspec": {
   "display_name": "Python 3",
   "language": "python",
   "name": "python3"
  },
  "language_info": {
   "codemirror_mode": {
    "name": "ipython",
    "version": 3
   },
   "file_extension": ".py",
   "mimetype": "text/x-python",
   "name": "python",
   "nbconvert_exporter": "python",
   "pygments_lexer": "ipython3",
   "version": "3.5.2"
  }
 },
 "nbformat": 4,
 "nbformat_minor": 2
}
