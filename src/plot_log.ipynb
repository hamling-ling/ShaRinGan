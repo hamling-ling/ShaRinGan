{
 "cells": [
  {
   "cell_type": "code",
   "execution_count": null,
   "metadata": {},
   "outputs": [],
   "source": [
    "import numpy as np\n",
    "%matplotlib inline\n",
    "import matplotlib.pyplot as plt\n",
    "import re"
   ]
  },
  {
   "cell_type": "code",
   "execution_count": null,
   "metadata": {},
   "outputs": [],
   "source": [
    "lines = [line.rstrip('\\n') for line in open('sharingan_checkpoints_ngf32/output.log')]"
   ]
  },
  {
   "cell_type": "code",
   "execution_count": null,
   "metadata": {},
   "outputs": [],
   "source": [
    "pat_g_logss_L1  = re.compile(r\".*g_loss_L1\\s=\\s(\\d*\\.\\d+).*\")\n",
    "pat_d_logss     = re.compile(r\".*d_loss\\s=\\s(\\d*\\.\\d+).*\")\n",
    "pat_g_logss_GAN = re.compile(r\".*g_loss_GAN\\s=\\s(\\d*\\.\\d+).*\")\n",
    "\n",
    "g_loss_L1  =list()\n",
    "d_loss     =list()\n",
    "g_loss_GAN =list()\n",
    "\n",
    "for line in lines:\n",
    "    #print(v)\n",
    "    result = pat_g_logss_L1.match(line)\n",
    "    if result:\n",
    "        g_loss_L1.append(float(result.group(1)))\n",
    "    result = pat_d_logss.match(line)\n",
    "    if result:\n",
    "        d_loss.append(float(result.group(1)))\n",
    "    result = pat_g_logss_GAN.match(line)\n",
    "    if result:\n",
    "        g_loss_GAN.append(float(result.group(1)))"
   ]
  },
  {
   "cell_type": "code",
   "execution_count": null,
   "metadata": {},
   "outputs": [],
   "source": [
    "xs=np.arange(len(g_loss_L1))\n",
    "g_loss_L1=np.array(g_loss_L1)\n",
    "d_loss=np.array(d_loss)\n",
    "pat_g_logss_GAN=np.array(pat_g_logss_GAN)"
   ]
  },
  {
   "cell_type": "code",
   "execution_count": null,
   "metadata": {},
   "outputs": [],
   "source": [
    "\n",
    "plt.plot(xs, g_loss_L1)"
   ]
  },
  {
   "cell_type": "code",
   "execution_count": null,
   "metadata": {
    "scrolled": true
   },
   "outputs": [],
   "source": [
    "plt.plot(xs, d_loss)"
   ]
  },
  {
   "cell_type": "code",
   "execution_count": null,
   "metadata": {},
   "outputs": [],
   "source": [
    "plt.plot(xs, g_loss_GAN)"
   ]
  },
  {
   "cell_type": "code",
   "execution_count": null,
   "metadata": {},
   "outputs": [],
   "source": []
  }
 ],
 "metadata": {
  "kernelspec": {
   "display_name": "Python 3",
   "language": "python",
   "name": "python3"
  },
  "language_info": {
   "codemirror_mode": {
    "name": "ipython",
    "version": 3
   },
   "file_extension": ".py",
   "mimetype": "text/x-python",
   "name": "python",
   "nbconvert_exporter": "python",
   "pygments_lexer": "ipython3",
   "version": "3.5.2"
  }
 },
 "nbformat": 4,
 "nbformat_minor": 2
}
