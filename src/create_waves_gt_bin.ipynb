{
 "cells": [
  {
   "cell_type": "markdown",
   "metadata": {},
   "source": [
    "http://large.stanford.edu/courses/2007/ph210/pelc2/\n",
    "https://dsp.stackexchange.com/questions/13142/digital-distortion-effect-algorithm"
   ]
  },
  {
   "cell_type": "code",
   "execution_count": 1,
   "metadata": {},
   "outputs": [],
   "source": [
    "import os\n",
    "import numpy as np\n",
    "import tensorflow as tf\n",
    "import glob\n",
    "%matplotlib inline\n",
    "import matplotlib.pyplot as plt"
   ]
  },
  {
   "cell_type": "code",
   "execution_count": 2,
   "metadata": {},
   "outputs": [],
   "source": [
    "wave_num=5\n",
    "sz=256\n",
    "def createGraph():\n",
    "  d=tf.constant(0.23)\n",
    "  b=tf.constant(0.03)\n",
    "  fs=tf.constant(44100.0)\n",
    "  gam=tf.constant(1.7)\n",
    "  rnd_f=tf.random_uniform([1], 110, 880)[0]\n",
    "  bpm=tf.constant(80.0)\n",
    "  nharm=tf.floor(tf.div(fs,(2.0*rnd_f)))\n",
    "  Nbeats = tf.constant(8)\n",
    "  T=60.0/bpm\n",
    "  \n",
    "  nharm_i=tf.cast(nharm, dtype=tf.int32)\n",
    "  An=tf.zeros([1,nharm_i], dtype=tf.float32)\n",
    "  \n",
    "  js=tf.range(1.0,nharm,1.0, dtype=tf.float32)\n",
    "  tf_pi=tf.constant(np.pi, dtype=tf.float32)\n",
    "\n",
    "  An=tf.sin(js*np.pi*d) * 2.0/(tf.pow(tf_pi,2.0) * tf.pow(js,2.0) * d * (1-d))\n",
    "  dfn=tf.sqrt(1.0+js*js*b*b)\n",
    "\n",
    "  Nt=tf.cast(fs*T, dtype=tf.int32)\n",
    "  sj=tf.zeros([Nt])\n",
    "  ns = tf.range(tf.cast(Nt, dtype=tf.float32), dtype=tf.float32)\n",
    "\n",
    "  ns = tf.reshape(ns, [-1,1])\n",
    "  js=tf.reshape(js, [1,-1])\n",
    "  dfn=tf.reshape(dfn, [1,-1])\n",
    "  sj=An*tf.exp(-gam*js*ns/fs) * tf.sin(2.0*tf_pi*ns*rnd_f*(dfn*js)/fs)\n",
    "  wave=tf.reduce_sum(sj,axis=1)\n",
    "  \n",
    "  rnd_phase=tf.random_uniform([1], 0, Nt-sz-1, dtype=tf.int32)[0]\n",
    "\n",
    "  return ns[rnd_phase:rnd_phase+sz], wave[rnd_phase:rnd_phase+sz]\n",
    "\n",
    "def outputWave(path):\n",
    "  with tf.Session() as sess:\n",
    "    \n",
    "    g=createGraph()\n",
    "    for i in np.arange(wave_num):\n",
    "      t, waves=sess.run(g)\n",
    "\n",
    "      data = np.zeros([2,sz], dtype=np.float32)\n",
    "      data[0] = waves[:sz]\n",
    "      data[1] = distortion(waves[:sz])\n",
    "      fn = \"{0}/{1:0>4}\".format(path, i) + \".bin\"\n",
    "      data.tofile(fn)\n",
    "\n",
    "def distortion(x):\n",
    "    return np.sign(x)*(1-np.exp(-np.abs(x**2)))\n",
    "\n",
    "#with tf.Session() as sess:\n",
    "#    g=createGraph()\n",
    "#    t,x = sess.run(g)\n",
    "#plt.plot(t,x)"
   ]
  },
  {
   "cell_type": "code",
   "execution_count": 3,
   "metadata": {},
   "outputs": [],
   "source": [
    "out_dir=\"./data\"\n",
    "os.makedirs(out_dir, exist_ok=True)\n",
    "outputWave(out_dir)"
   ]
  },
  {
   "cell_type": "code",
   "execution_count": 4,
   "metadata": {},
   "outputs": [],
   "source": [
    "input_paths = glob.glob(os.path.join(out_dir, \"*.bin\"))\n",
    "input_paths.sort()\n",
    "\n",
    "filename_queue = tf.train.string_input_producer(input_paths)\n",
    "reader = tf.WholeFileReader()\n",
    "key, value = reader.read(filename_queue)\n",
    "image = tf.decode_raw(value, tf.float32)\n",
    "image = tf.reshape(image,[2,1,tf.constant(sz),1])\n",
    "\n",
    "sess=tf.InteractiveSession()\n",
    "sess.run(tf.global_variables_initializer())\n",
    "sess.run(tf.local_variables_initializer())\n",
    "\n",
    "coord = tf.train.Coordinator()\n",
    "threads = tf.train.start_queue_runners(coord=coord)\n",
    "\n",
    "out=sess.run(image)\n",
    "\n",
    "coord.request_stop()\n",
    "coord.join(threads)\n",
    "\n",
    "xs = range(sz)\n",
    "plt.plot(xs, out[0,0,:,0], xs, out[1,0,:,0])"
   ]
  },
  {
   "cell_type": "code",
   "execution_count": null,
   "metadata": {},
   "outputs": [],
   "source": []
  }
 ],
 "metadata": {
  "kernelspec": {
   "display_name": "Python 3.6",
   "language": "python",
   "name": "python36"
  },
  "language_info": {
   "codemirror_mode": {
    "name": "ipython",
    "version": 3
   },
   "file_extension": ".py",
   "mimetype": "text/x-python",
   "name": "python",
   "nbconvert_exporter": "python",
   "pygments_lexer": "ipython3",
   "version": "3.6.3"
  }
 },
 "nbformat": 4,
 "nbformat_minor": 2
}
