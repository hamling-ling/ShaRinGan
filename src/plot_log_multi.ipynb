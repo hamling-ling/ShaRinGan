{
 "cells": [
  {
   "cell_type": "code",
   "execution_count": null,
   "metadata": {},
   "outputs": [],
   "source": [
    "import numpy as np\n",
    "%matplotlib inline\n",
    "import matplotlib.pyplot as plt\n",
    "import os\n",
    "import re\n",
    "import json\n",
    "import collections\n",
    "from collections import namedtuple\n",
    "import glob"
   ]
  },
  {
   "cell_type": "code",
   "execution_count": null,
   "metadata": {},
   "outputs": [],
   "source": [
    "HyperParams = collections.namedtuple(\"HyperParams\", \"lr, beta1, l1_weight, gan_weight, ngf, ndf\")\n",
    "# assuming directori name is cp_ngf16_lr0.001_bs64 kind of format\n",
    "# and containing hyper_params.json and output.log\n",
    "params = {}\n",
    "for filename in glob.glob(\"../data/output/*/*/hyper_params.json\"):\n",
    "    print(\"loading \", filename)\n",
    "    with open(filename) as fd:\n",
    "        json_str = fd.read()\n",
    "        hyp = json.loads(json_str, object_hook=lambda d: namedtuple('HyperParams', d.keys())(*d.values()))\n",
    "        dirname = os.path.dirname(filename)\n",
    "        params[dirname] = hyp"
   ]
  },
  {
   "cell_type": "code",
   "execution_count": null,
   "metadata": {},
   "outputs": [],
   "source": [
    "def parseLog(dirname):\n",
    "    filename=os.path.join(dirname, 'output.log')\n",
    "    lines = [line.rstrip('\\n') for line in open(filename)]\n",
    "    \n",
    "    pat_g_logss_L1  = re.compile(r\".*g_loss_L1\\s=\\s(\\d*\\.\\d+).*\")\n",
    "    pat_d_logss     = re.compile(r\".*d_loss\\s=\\s(\\d*\\.\\d+).*\")\n",
    "    pat_g_logss_GAN = re.compile(r\".*g_loss_GAN\\s=\\s(\\d*\\.\\d+).*\")\n",
    "\n",
    "    g_loss_L1  =list()\n",
    "    d_loss     =list()\n",
    "    g_loss_GAN =list()\n",
    "\n",
    "    for line in lines:\n",
    "        #print(v)\n",
    "        result = pat_g_logss_L1.match(line)\n",
    "        if result:\n",
    "            g_loss_L1.append(float(result.group(1)))\n",
    "        result = pat_d_logss.match(line)\n",
    "        if result:\n",
    "            d_loss.append(float(result.group(1)))\n",
    "        result = pat_g_logss_GAN.match(line)\n",
    "        if result:\n",
    "            g_loss_GAN.append(float(result.group(1)))\n",
    "    \n",
    "    xs=np.arange(len(g_loss_L1))\n",
    "    return xs, np.array(g_loss_L1), np.array(d_loss), np.array(g_loss_GAN)"
   ]
  },
  {
   "cell_type": "code",
   "execution_count": null,
   "metadata": {},
   "outputs": [],
   "source": [
    "def plot_learning_rate_change(batch_size, ngf):\n",
    "    str_in_fn = \"_bs{0}\".format(batch_size)\n",
    "    dict_bs = {k: v for k, v in params.items() if str_in_fn in k}\n",
    "    dict_bs_ngf = {k: v for k,v in dict_bs.items() if v.ngf==ngf}#\n",
    "\n",
    "    sorted_tuple = sorted(dict_bs_ngf.items(), key=lambda x:x[1].lr)\n",
    "\n",
    "    fig = plt.figure()\n",
    "    for tup in sorted_tuple:\n",
    "        dirname = tup[0]\n",
    "        xs, g_loss_L1, d_loss, g_loss_GAN = parseLog(dirname)\n",
    "        plt.plot(xs, g_loss_L1)\n",
    "    plt.legend([\"lr={0}\".format(x[1].lr) for x in sorted_tuple])\n",
    "    plt.title(\"Generator Loss for batch size={0}, ngf={1}\".format(batch_size, ngf))\n",
    "    plt.show()"
   ]
  },
  {
   "cell_type": "code",
   "execution_count": null,
   "metadata": {},
   "outputs": [],
   "source": [
    "plot_learning_rate_change(64, 32)"
   ]
  },
  {
   "cell_type": "code",
   "execution_count": null,
   "metadata": {},
   "outputs": [],
   "source": [
    "plot_learning_rate_change(512, 32)\n",
    "\n"
   ]
  },
  {
   "cell_type": "code",
   "execution_count": null,
   "metadata": {
    "scrolled": true
   },
   "outputs": [],
   "source": [
    "plot_learning_rate_change(1024, 32)"
   ]
  },
  {
   "cell_type": "code",
   "execution_count": null,
   "metadata": {},
   "outputs": [],
   "source": [
    "plot_learning_rate_change(64, 16)"
   ]
  },
  {
   "cell_type": "code",
   "execution_count": null,
   "metadata": {},
   "outputs": [],
   "source": [
    "plot_learning_rate_change(512, 16)"
   ]
  },
  {
   "cell_type": "code",
   "execution_count": null,
   "metadata": {},
   "outputs": [],
   "source": [
    "plot_learning_rate_change(1024, 16)"
   ]
  },
  {
   "cell_type": "code",
   "execution_count": null,
   "metadata": {},
   "outputs": [],
   "source": [
    "def plot_ngf_change(batch_size, lr):\n",
    "    str_in_fn = \"_bs{0}\".format(batch_size)\n",
    "    dict_bs = {k: v for k, v in params.items() if str_in_fn in k}\n",
    "    dict_bs_lr = {k: v for k,v in dict_bs.items() if v.lr==lr}#\n",
    "    \n",
    "    sorted_tuple = sorted(dict_bs_lr.items(), key=lambda x:x[1].ngf)\n",
    "\n",
    "    fig = plt.figure()\n",
    "    for tup in sorted_tuple:\n",
    "        dirname = tup[0]\n",
    "        xs, g_loss_L1, d_loss, g_loss_GAN = parseLog(dirname)\n",
    "        plt.plot(xs, g_loss_L1)\n",
    "    plt.legend([\"ngf={0}\".format(x[1].ngf) for x in sorted_tuple])\n",
    "    plt.title(\"Generator Loss for batch size={0}, lr={1}\".format(batch_size, lr))\n",
    "    plt.show()"
   ]
  },
  {
   "cell_type": "code",
   "execution_count": null,
   "metadata": {},
   "outputs": [],
   "source": [
    "plot_ngf_change(512, 0.00004)"
   ]
  },
  {
   "cell_type": "code",
   "execution_count": null,
   "metadata": {},
   "outputs": [],
   "source": [
    "plot_ngf_change(512, 0.0002)"
   ]
  },
  {
   "cell_type": "code",
   "execution_count": null,
   "metadata": {},
   "outputs": [],
   "source": [
    "plot_ngf_change(512, 0.001)"
   ]
  },
  {
   "cell_type": "code",
   "execution_count": null,
   "metadata": {},
   "outputs": [],
   "source": []
  }
 ],
 "metadata": {
  "kernelspec": {
   "display_name": "Python 3",
   "language": "python",
   "name": "python3"
  },
  "language_info": {
   "codemirror_mode": {
    "name": "ipython",
    "version": 3
   },
   "file_extension": ".py",
   "mimetype": "text/x-python",
   "name": "python",
   "nbconvert_exporter": "python",
   "pygments_lexer": "ipython3",
   "version": "3.5.2"
  }
 },
 "nbformat": 4,
 "nbformat_minor": 2
}
