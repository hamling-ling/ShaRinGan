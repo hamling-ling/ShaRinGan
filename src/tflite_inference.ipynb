{
 "cells": [
  {
   "cell_type": "code",
   "execution_count": null,
   "metadata": {},
   "outputs": [],
   "source": [
    "import numpy as np\n",
    "import tensorflow as tf\n",
    "%matplotlib inline\n",
    "import matplotlib.pyplot as plt"
   ]
  },
  {
   "cell_type": "code",
   "execution_count": null,
   "metadata": {},
   "outputs": [],
   "source": [
    "!./sharingan_export.sh"
   ]
  },
  {
   "cell_type": "code",
   "execution_count": null,
   "metadata": {},
   "outputs": [],
   "source": [
    "fn = \"../data/input/evaluation/001000.bin\"\n",
    "\n",
    "raw_data=np.fromfile(fn, np.float32)\n",
    "print(\"raw data shape=\", raw_data.shape)\n",
    "\n",
    "raw_data_reshaped = np.reshape(raw_data,[2,1,-1,1])\n",
    "\n",
    "input  = raw_data_reshaped[0].reshape([1,1,-1,1])\n",
    "target = raw_data_reshaped[1].reshape([1,1,-1,1])"
   ]
  },
  {
   "cell_type": "code",
   "execution_count": null,
   "metadata": {},
   "outputs": [],
   "source": [
    "interpreter = tf.contrib.lite.Interpreter(model_path=\"../data/output/frozen_model/model.tflite\")\n",
    "interpreter.allocate_tensors()\n",
    "\n",
    "input_details = interpreter.get_input_details()\n",
    "output_details = interpreter.get_output_details()\n",
    "\n",
    "input_shape = input_details[0]['shape']\n",
    "print(input_details)\n",
    "print(output_details)\n",
    "\n",
    "interpreter.set_tensor(input_details[0]['index'], input)\n",
    "interpreter.invoke()\n",
    "interpreter_output = interpreter.get_tensor(output_details[0]['index'])"
   ]
  },
  {
   "cell_type": "code",
   "execution_count": null,
   "metadata": {},
   "outputs": [],
   "source": [
    "tf.reset_default_graph()\n",
    "\n",
    "with tf.gfile.GFile(\"../data/output/frozen_model/frozen_model.pb\", \"rb\") as f:\n",
    "    graph_def = tf.GraphDef()\n",
    "    graph_def.ParseFromString(f.read())\n",
    "\n",
    "with tf.Graph().as_default() as gf:\n",
    "    tf.import_graph_def(graph_def, name=\"prefix\")\n",
    "    graph = gf\n",
    "\n",
    "#for op in graph.get_operations():\n",
    "#    print(op.name)\n",
    "\n",
    "X=graph.get_tensor_by_name('prefix/input:0')\n",
    "output_node = graph.get_tensor_by_name('prefix/generator/Tanh:0')\n",
    "with tf.Session(graph=graph) as sess:\n",
    "    frozen_output=output_node.eval({X: input})"
   ]
  },
  {
   "cell_type": "code",
   "execution_count": null,
   "metadata": {},
   "outputs": [],
   "source": [
    "x=np.arange(1024)\n",
    "plt.plot(x, input[0,0,:,0])\n",
    "plt.plot(x, target[0,0,:,0])\n",
    "plt.plot(x, interpreter_output[0,0,:,0], '.')\n",
    "plt.plot(x, frozen_output[0,0,:,0], '-')"
   ]
  },
  {
   "cell_type": "code",
   "execution_count": null,
   "metadata": {},
   "outputs": [],
   "source": [
    "tf.__version__"
   ]
  },
  {
   "cell_type": "code",
   "execution_count": null,
   "metadata": {},
   "outputs": [],
   "source": []
  }
 ],
 "metadata": {
  "kernelspec": {
   "display_name": "Python 3",
   "language": "python",
   "name": "python3"
  },
  "language_info": {
   "codemirror_mode": {
    "name": "ipython",
    "version": 3
   },
   "file_extension": ".py",
   "mimetype": "text/x-python",
   "name": "python",
   "nbconvert_exporter": "python",
   "pygments_lexer": "ipython3",
   "version": "3.5.2"
  }
 },
 "nbformat": 4,
 "nbformat_minor": 2
}
